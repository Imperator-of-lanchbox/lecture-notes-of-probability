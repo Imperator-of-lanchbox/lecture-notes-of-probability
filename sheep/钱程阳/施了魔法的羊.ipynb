{
 "cells": [
  {
   "cell_type": "markdown",
   "metadata": {},
   "source": [
    "问题描述：\n",
    "\n",
    "草原上有2000只黑羊和2000只白羊，它们不会死亡和新生。每天都有一只羊被随机选中，该随机选择与以前的选择无关。 这只被选中的羊会找到一只与之异色的羊（如果还有的话）并对其鸣叫。一只黑羊对准一只白羊鸣叫会使白羊以概率$p$发生变色（变为黑羊）；一只白羊对准一只黑羊鸣叫会使黑羊以概率$q$发生变色（变为白羊）。管理者每天可以在神奇的羊变色现象发生前进场移走任意数量的白羊。管理者的目标是使得最后所剩黑羊数量的期望值尽可能大。譬如，头天就移走所有白羊，可以保证最后保住2000只黑羊。试针对一些不同的$p,q$取值来给管理者建议管理策略以及对最好可能的黑羊遗留数量做出估计。"
   ]
  },
  {
   "cell_type": "markdown",
   "metadata": {},
   "source": [
    "以下程序的运行结果中，\n",
    "\n",
    "a 按照[sum][黑羊数]索引，代表最终的黑羊期望值\n",
    "\n",
    "ind按照[sum]索引，代表该总和下，弃羊-不弃的临界点。"
   ]
  },
  {
   "cell_type": "code",
   "execution_count": 56,
   "metadata": {},
   "outputs": [],
   "source": [
    "# 这是初始化\n",
    "from scipy.special import comb;\n",
    "import matplotlib\n",
    "import matplotlib.pyplot as plt\n",
    "import numpy as np\n",
    "import math\n",
    "\n",
    "def distribute(n,t):\n",
    "    \"\"\"\n",
    "        创建一个0->1的range(n+1)数组，其值为被“全部黑羊”事件吸收的概率。\n",
    "        t=q/p\n",
    "    \"\"\"\n",
    "    # delta=np.array([pow(t,i)*comb(n-1,i) for i in range(n)])/pow(1+t,n-1);\n",
    "    a=[0]; delta=[-math.log(1+t)*(n-1)];\n",
    "    # delta 存为其对数值，因为实在太大了\n",
    "    for i in range(1,n):\n",
    "        delta.append(delta[i-1]+math.log(t*(n-i)/i));\n",
    "    for i in range(n):\n",
    "        a.append(math.exp(delta[i])+a[i]);\n",
    "    return a;\n",
    "\n",
    "a=[[0]];\n",
    "# a 按照[sum][黑羊数]索引，代表最终的黑羊期望值\n",
    "ind=[0];\n",
    "# ind按照[sum]索引，代表该总和下，弃羊-不弃的临界点。\n",
    "t=8/5;"
   ]
  },
  {
   "cell_type": "code",
   "execution_count": 61,
   "metadata": {},
   "outputs": [
    {
     "name": "stdout",
     "output_type": "stream",
     "text": [
      "6001\n"
     ]
    }
   ],
   "source": [
    "# it takes 7s for n = 4001\n",
    "n=6001;\n",
    "for sum in range(len(a),n):\n",
    "    d=distribute(sum,t);\n",
    "    l=-1; r=sum; index=-1;\n",
    "    for i in range(ind[sum-1],sum):\n",
    "        if l<(a[sum-1][i]-r*d[i])/(1-d[i]):\n",
    "            l=(a[sum-1][i]-r*d[i])/(1-d[i]);\n",
    "            index=i;\n",
    "        else: break;\n",
    "    ind.append(index);\n",
    "    a.append(a[sum-1][:index]+[l+(r-l)*x for x in d[index:]]);\n",
    "print(len(a))"
   ]
  },
  {
   "cell_type": "code",
   "execution_count": 1,
   "metadata": {},
   "outputs": [
    {
     "data": {
      "text/plain": [
       "[<matplotlib.lines.Line2D at 0x1f1f65413a0>]"
      ]
     },
     "execution_count": 1,
     "metadata": {},
     "output_type": "execute_result"
    },
    {
     "data": {
      "image/png": "[encoded data removed]",
      "text/plain": [
       "<Figure size 432x288 with 1 Axes>"
      ]
     },
     "metadata": {
      "needs_background": "light"
     },
     "output_type": "display_data"
    }
   ],
   "source": [
    "fig, ax = plt.subplots()\n",
    "ax.plot(a[n-1])\n",
    "ax.plot(a[n//2])"
   ]
  },
  {
   "cell_type": "code",
   "execution_count": 65,
   "metadata": {
    "scrolled": false
   },
   "outputs": [
    {
     "name": "stdout",
     "output_type": "stream",
     "text": [
      "12\n",
      "-1\n",
      "[3, 16, 29]\n"
     ]
    }
   ],
   "source": [
    "x=10;m=n;\n",
    "tmp=[ind[i]*13-8*i+x for i in range(m)];\n",
    "y=[];\n",
    "z=[];\n",
    "for i in range(m):\n",
    "    if tmp[i] == -1:\n",
    "        y.append(i);\n",
    "print(np.max(tmp),\n",
    "      np.min(tmp),\n",
    "      y,sep='\\n')"
   ]
  },
  {
   "cell_type": "code",
   "execution_count": null,
   "metadata": {},
   "outputs": [],
   "source": []
  }
 ],
 "metadata": {
  "kernelspec": {
   "display_name": "Python 3",
   "language": "python",
   "name": "python3"
  },
  "language_info": {
   "codemirror_mode": {
    "name": "ipython",
    "version": 3
   },
   "file_extension": ".py",
   "mimetype": "text/x-python",
   "name": "python",
   "nbconvert_exporter": "python",
   "pygments_lexer": "ipython3",
   "version": "3.8.1"
  }
 },
 "nbformat": 4,
 "nbformat_minor": 4
}
